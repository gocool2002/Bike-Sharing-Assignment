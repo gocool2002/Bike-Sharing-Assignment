{
 "cells": [
  {
   "cell_type": "markdown",
   "id": "9dc355fc",
   "metadata": {},
   "source": [
    "# MLR to determine variables that affect Bike rental bookings"
   ]
  },
  {
   "cell_type": "code",
   "execution_count": 303,
   "id": "a0bd4e0f",
   "metadata": {},
   "outputs": [],
   "source": [
    "#importing libraries\n",
    "import pandas as pd\n",
    "import numpy as np\n",
    "import seaborn as sns\n",
    "import matplotlib.pyplot as plt\n",
    "\n",
    "import warnings\n",
    "warnings.filterwarnings(\"ignore\")"
   ]
  },
  {
   "cell_type": "markdown",
   "id": "389a78c2",
   "metadata": {},
   "source": [
    "### 1 Load the data"
   ]
  },
  {
   "cell_type": "code",
   "execution_count": 304,
   "id": "1d46bf50",
   "metadata": {},
   "outputs": [],
   "source": [
    "bookings=pd.read_csv(\"/Users/gokul.gs1/Downloads/MILA/Jupyter Practice Notebooks and CSV/day.csv\")"
   ]
  },
  {
   "cell_type": "code",
   "execution_count": 305,
   "id": "5180be01",
   "metadata": {},
   "outputs": [
    {
     "data": {
      "text/html": [
       "<div>\n",
       "<style scoped>\n",
       "    .dataframe tbody tr th:only-of-type {\n",
       "        vertical-align: middle;\n",
       "    }\n",
       "\n",
       "    .dataframe tbody tr th {\n",
       "        vertical-align: top;\n",
       "    }\n",
       "\n",
       "    .dataframe thead th {\n",
       "        text-align: right;\n",
       "    }\n",
       "</style>\n",
       "<table border=\"1\" class=\"dataframe\">\n",
       "  <thead>\n",
       "    <tr style=\"text-align: right;\">\n",
       "      <th></th>\n",
       "      <th>instant</th>\n",
       "      <th>dteday</th>\n",
       "      <th>season</th>\n",
       "      <th>yr</th>\n",
       "      <th>mnth</th>\n",
       "      <th>holiday</th>\n",
       "      <th>weekday</th>\n",
       "      <th>workingday</th>\n",
       "      <th>weathersit</th>\n",
       "      <th>temp</th>\n",
       "      <th>atemp</th>\n",
       "      <th>hum</th>\n",
       "      <th>windspeed</th>\n",
       "      <th>casual</th>\n",
       "      <th>registered</th>\n",
       "      <th>cnt</th>\n",
       "    </tr>\n",
       "  </thead>\n",
       "  <tbody>\n",
       "    <tr>\n",
       "      <th>0</th>\n",
       "      <td>1</td>\n",
       "      <td>01-01-2018</td>\n",
       "      <td>1</td>\n",
       "      <td>0</td>\n",
       "      <td>1</td>\n",
       "      <td>0</td>\n",
       "      <td>6</td>\n",
       "      <td>0</td>\n",
       "      <td>2</td>\n",
       "      <td>14.110847</td>\n",
       "      <td>18.18125</td>\n",
       "      <td>80.5833</td>\n",
       "      <td>10.749882</td>\n",
       "      <td>331</td>\n",
       "      <td>654</td>\n",
       "      <td>985</td>\n",
       "    </tr>\n",
       "    <tr>\n",
       "      <th>1</th>\n",
       "      <td>2</td>\n",
       "      <td>02-01-2018</td>\n",
       "      <td>1</td>\n",
       "      <td>0</td>\n",
       "      <td>1</td>\n",
       "      <td>0</td>\n",
       "      <td>0</td>\n",
       "      <td>0</td>\n",
       "      <td>2</td>\n",
       "      <td>14.902598</td>\n",
       "      <td>17.68695</td>\n",
       "      <td>69.6087</td>\n",
       "      <td>16.652113</td>\n",
       "      <td>131</td>\n",
       "      <td>670</td>\n",
       "      <td>801</td>\n",
       "    </tr>\n",
       "    <tr>\n",
       "      <th>2</th>\n",
       "      <td>3</td>\n",
       "      <td>03-01-2018</td>\n",
       "      <td>1</td>\n",
       "      <td>0</td>\n",
       "      <td>1</td>\n",
       "      <td>0</td>\n",
       "      <td>1</td>\n",
       "      <td>1</td>\n",
       "      <td>1</td>\n",
       "      <td>8.050924</td>\n",
       "      <td>9.47025</td>\n",
       "      <td>43.7273</td>\n",
       "      <td>16.636703</td>\n",
       "      <td>120</td>\n",
       "      <td>1229</td>\n",
       "      <td>1349</td>\n",
       "    </tr>\n",
       "    <tr>\n",
       "      <th>3</th>\n",
       "      <td>4</td>\n",
       "      <td>04-01-2018</td>\n",
       "      <td>1</td>\n",
       "      <td>0</td>\n",
       "      <td>1</td>\n",
       "      <td>0</td>\n",
       "      <td>2</td>\n",
       "      <td>1</td>\n",
       "      <td>1</td>\n",
       "      <td>8.200000</td>\n",
       "      <td>10.60610</td>\n",
       "      <td>59.0435</td>\n",
       "      <td>10.739832</td>\n",
       "      <td>108</td>\n",
       "      <td>1454</td>\n",
       "      <td>1562</td>\n",
       "    </tr>\n",
       "    <tr>\n",
       "      <th>4</th>\n",
       "      <td>5</td>\n",
       "      <td>05-01-2018</td>\n",
       "      <td>1</td>\n",
       "      <td>0</td>\n",
       "      <td>1</td>\n",
       "      <td>0</td>\n",
       "      <td>3</td>\n",
       "      <td>1</td>\n",
       "      <td>1</td>\n",
       "      <td>9.305237</td>\n",
       "      <td>11.46350</td>\n",
       "      <td>43.6957</td>\n",
       "      <td>12.522300</td>\n",
       "      <td>82</td>\n",
       "      <td>1518</td>\n",
       "      <td>1600</td>\n",
       "    </tr>\n",
       "  </tbody>\n",
       "</table>\n",
       "</div>"
      ],
      "text/plain": [
       "   instant      dteday  season  yr  mnth  holiday  weekday  workingday  \\\n",
       "0        1  01-01-2018       1   0     1        0        6           0   \n",
       "1        2  02-01-2018       1   0     1        0        0           0   \n",
       "2        3  03-01-2018       1   0     1        0        1           1   \n",
       "3        4  04-01-2018       1   0     1        0        2           1   \n",
       "4        5  05-01-2018       1   0     1        0        3           1   \n",
       "\n",
       "   weathersit       temp     atemp      hum  windspeed  casual  registered  \\\n",
       "0           2  14.110847  18.18125  80.5833  10.749882     331         654   \n",
       "1           2  14.902598  17.68695  69.6087  16.652113     131         670   \n",
       "2           1   8.050924   9.47025  43.7273  16.636703     120        1229   \n",
       "3           1   8.200000  10.60610  59.0435  10.739832     108        1454   \n",
       "4           1   9.305237  11.46350  43.6957  12.522300      82        1518   \n",
       "\n",
       "    cnt  \n",
       "0   985  \n",
       "1   801  \n",
       "2  1349  \n",
       "3  1562  \n",
       "4  1600  "
      ]
     },
     "execution_count": 305,
     "metadata": {},
     "output_type": "execute_result"
    }
   ],
   "source": [
    "#previewing the data\n",
    "bookings.head()"
   ]
  },
  {
   "cell_type": "code",
   "execution_count": 306,
   "id": "fab5b3aa",
   "metadata": {},
   "outputs": [],
   "source": [
    "#dropping the variable instant\n",
    "bookings.drop(\"instant\",axis=1,inplace=True)"
   ]
  },
  {
   "cell_type": "code",
   "execution_count": 307,
   "id": "9bfedfb3",
   "metadata": {},
   "outputs": [
    {
     "data": {
      "text/html": [
       "<div>\n",
       "<style scoped>\n",
       "    .dataframe tbody tr th:only-of-type {\n",
       "        vertical-align: middle;\n",
       "    }\n",
       "\n",
       "    .dataframe tbody tr th {\n",
       "        vertical-align: top;\n",
       "    }\n",
       "\n",
       "    .dataframe thead th {\n",
       "        text-align: right;\n",
       "    }\n",
       "</style>\n",
       "<table border=\"1\" class=\"dataframe\">\n",
       "  <thead>\n",
       "    <tr style=\"text-align: right;\">\n",
       "      <th></th>\n",
       "      <th>dteday</th>\n",
       "      <th>season</th>\n",
       "      <th>yr</th>\n",
       "      <th>mnth</th>\n",
       "      <th>holiday</th>\n",
       "      <th>weekday</th>\n",
       "      <th>workingday</th>\n",
       "      <th>weathersit</th>\n",
       "      <th>temp</th>\n",
       "      <th>atemp</th>\n",
       "      <th>hum</th>\n",
       "      <th>windspeed</th>\n",
       "      <th>casual</th>\n",
       "      <th>registered</th>\n",
       "      <th>cnt</th>\n",
       "    </tr>\n",
       "  </thead>\n",
       "  <tbody>\n",
       "    <tr>\n",
       "      <th>0</th>\n",
       "      <td>01-01-2018</td>\n",
       "      <td>1</td>\n",
       "      <td>0</td>\n",
       "      <td>1</td>\n",
       "      <td>0</td>\n",
       "      <td>6</td>\n",
       "      <td>0</td>\n",
       "      <td>2</td>\n",
       "      <td>14.110847</td>\n",
       "      <td>18.18125</td>\n",
       "      <td>80.5833</td>\n",
       "      <td>10.749882</td>\n",
       "      <td>331</td>\n",
       "      <td>654</td>\n",
       "      <td>985</td>\n",
       "    </tr>\n",
       "    <tr>\n",
       "      <th>1</th>\n",
       "      <td>02-01-2018</td>\n",
       "      <td>1</td>\n",
       "      <td>0</td>\n",
       "      <td>1</td>\n",
       "      <td>0</td>\n",
       "      <td>0</td>\n",
       "      <td>0</td>\n",
       "      <td>2</td>\n",
       "      <td>14.902598</td>\n",
       "      <td>17.68695</td>\n",
       "      <td>69.6087</td>\n",
       "      <td>16.652113</td>\n",
       "      <td>131</td>\n",
       "      <td>670</td>\n",
       "      <td>801</td>\n",
       "    </tr>\n",
       "    <tr>\n",
       "      <th>2</th>\n",
       "      <td>03-01-2018</td>\n",
       "      <td>1</td>\n",
       "      <td>0</td>\n",
       "      <td>1</td>\n",
       "      <td>0</td>\n",
       "      <td>1</td>\n",
       "      <td>1</td>\n",
       "      <td>1</td>\n",
       "      <td>8.050924</td>\n",
       "      <td>9.47025</td>\n",
       "      <td>43.7273</td>\n",
       "      <td>16.636703</td>\n",
       "      <td>120</td>\n",
       "      <td>1229</td>\n",
       "      <td>1349</td>\n",
       "    </tr>\n",
       "    <tr>\n",
       "      <th>3</th>\n",
       "      <td>04-01-2018</td>\n",
       "      <td>1</td>\n",
       "      <td>0</td>\n",
       "      <td>1</td>\n",
       "      <td>0</td>\n",
       "      <td>2</td>\n",
       "      <td>1</td>\n",
       "      <td>1</td>\n",
       "      <td>8.200000</td>\n",
       "      <td>10.60610</td>\n",
       "      <td>59.0435</td>\n",
       "      <td>10.739832</td>\n",
       "      <td>108</td>\n",
       "      <td>1454</td>\n",
       "      <td>1562</td>\n",
       "    </tr>\n",
       "    <tr>\n",
       "      <th>4</th>\n",
       "      <td>05-01-2018</td>\n",
       "      <td>1</td>\n",
       "      <td>0</td>\n",
       "      <td>1</td>\n",
       "      <td>0</td>\n",
       "      <td>3</td>\n",
       "      <td>1</td>\n",
       "      <td>1</td>\n",
       "      <td>9.305237</td>\n",
       "      <td>11.46350</td>\n",
       "      <td>43.6957</td>\n",
       "      <td>12.522300</td>\n",
       "      <td>82</td>\n",
       "      <td>1518</td>\n",
       "      <td>1600</td>\n",
       "    </tr>\n",
       "  </tbody>\n",
       "</table>\n",
       "</div>"
      ],
      "text/plain": [
       "       dteday  season  yr  mnth  holiday  weekday  workingday  weathersit  \\\n",
       "0  01-01-2018       1   0     1        0        6           0           2   \n",
       "1  02-01-2018       1   0     1        0        0           0           2   \n",
       "2  03-01-2018       1   0     1        0        1           1           1   \n",
       "3  04-01-2018       1   0     1        0        2           1           1   \n",
       "4  05-01-2018       1   0     1        0        3           1           1   \n",
       "\n",
       "        temp     atemp      hum  windspeed  casual  registered   cnt  \n",
       "0  14.110847  18.18125  80.5833  10.749882     331         654   985  \n",
       "1  14.902598  17.68695  69.6087  16.652113     131         670   801  \n",
       "2   8.050924   9.47025  43.7273  16.636703     120        1229  1349  \n",
       "3   8.200000  10.60610  59.0435  10.739832     108        1454  1562  \n",
       "4   9.305237  11.46350  43.6957  12.522300      82        1518  1600  "
      ]
     },
     "execution_count": 307,
     "metadata": {},
     "output_type": "execute_result"
    }
   ],
   "source": [
    "bookings.head()"
   ]
  },
  {
   "cell_type": "markdown",
   "id": "dbb1db6a",
   "metadata": {},
   "source": [
    "### 2 Understanding the basic data"
   ]
  },
  {
   "cell_type": "code",
   "execution_count": 308,
   "id": "c9f43d16",
   "metadata": {},
   "outputs": [
    {
     "data": {
      "text/plain": [
       "(730, 15)"
      ]
     },
     "execution_count": 308,
     "metadata": {},
     "output_type": "execute_result"
    }
   ],
   "source": [
    "#understanding the shape of the dataframe\n",
    "bookings.shape"
   ]
  },
  {
   "cell_type": "code",
   "execution_count": 309,
   "id": "628371ea",
   "metadata": {},
   "outputs": [
    {
     "name": "stdout",
     "output_type": "stream",
     "text": [
      "<class 'pandas.core.frame.DataFrame'>\n",
      "RangeIndex: 730 entries, 0 to 729\n",
      "Data columns (total 15 columns):\n",
      " #   Column      Non-Null Count  Dtype  \n",
      "---  ------      --------------  -----  \n",
      " 0   dteday      730 non-null    object \n",
      " 1   season      730 non-null    int64  \n",
      " 2   yr          730 non-null    int64  \n",
      " 3   mnth        730 non-null    int64  \n",
      " 4   holiday     730 non-null    int64  \n",
      " 5   weekday     730 non-null    int64  \n",
      " 6   workingday  730 non-null    int64  \n",
      " 7   weathersit  730 non-null    int64  \n",
      " 8   temp        730 non-null    float64\n",
      " 9   atemp       730 non-null    float64\n",
      " 10  hum         730 non-null    float64\n",
      " 11  windspeed   730 non-null    float64\n",
      " 12  casual      730 non-null    int64  \n",
      " 13  registered  730 non-null    int64  \n",
      " 14  cnt         730 non-null    int64  \n",
      "dtypes: float64(4), int64(10), object(1)\n",
      "memory usage: 85.7+ KB\n"
     ]
    }
   ],
   "source": [
    "# understanding the object type of each column\n",
    "bookings.info()"
   ]
  },
  {
   "cell_type": "code",
   "execution_count": 310,
   "id": "c7b3a2db",
   "metadata": {},
   "outputs": [
    {
     "data": {
      "text/html": [
       "<div>\n",
       "<style scoped>\n",
       "    .dataframe tbody tr th:only-of-type {\n",
       "        vertical-align: middle;\n",
       "    }\n",
       "\n",
       "    .dataframe tbody tr th {\n",
       "        vertical-align: top;\n",
       "    }\n",
       "\n",
       "    .dataframe thead th {\n",
       "        text-align: right;\n",
       "    }\n",
       "</style>\n",
       "<table border=\"1\" class=\"dataframe\">\n",
       "  <thead>\n",
       "    <tr style=\"text-align: right;\">\n",
       "      <th></th>\n",
       "      <th>season</th>\n",
       "      <th>yr</th>\n",
       "      <th>mnth</th>\n",
       "      <th>holiday</th>\n",
       "      <th>weekday</th>\n",
       "      <th>workingday</th>\n",
       "      <th>weathersit</th>\n",
       "      <th>temp</th>\n",
       "      <th>atemp</th>\n",
       "      <th>hum</th>\n",
       "      <th>windspeed</th>\n",
       "      <th>casual</th>\n",
       "      <th>registered</th>\n",
       "      <th>cnt</th>\n",
       "    </tr>\n",
       "  </thead>\n",
       "  <tbody>\n",
       "    <tr>\n",
       "      <th>count</th>\n",
       "      <td>730.000000</td>\n",
       "      <td>730.000000</td>\n",
       "      <td>730.000000</td>\n",
       "      <td>730.000000</td>\n",
       "      <td>730.000000</td>\n",
       "      <td>730.000000</td>\n",
       "      <td>730.000000</td>\n",
       "      <td>730.000000</td>\n",
       "      <td>730.000000</td>\n",
       "      <td>730.000000</td>\n",
       "      <td>730.000000</td>\n",
       "      <td>730.000000</td>\n",
       "      <td>730.000000</td>\n",
       "      <td>730.000000</td>\n",
       "    </tr>\n",
       "    <tr>\n",
       "      <th>mean</th>\n",
       "      <td>2.498630</td>\n",
       "      <td>0.500000</td>\n",
       "      <td>6.526027</td>\n",
       "      <td>0.028767</td>\n",
       "      <td>2.997260</td>\n",
       "      <td>0.683562</td>\n",
       "      <td>1.394521</td>\n",
       "      <td>20.319259</td>\n",
       "      <td>23.726322</td>\n",
       "      <td>62.765175</td>\n",
       "      <td>12.763620</td>\n",
       "      <td>849.249315</td>\n",
       "      <td>3658.757534</td>\n",
       "      <td>4508.006849</td>\n",
       "    </tr>\n",
       "    <tr>\n",
       "      <th>std</th>\n",
       "      <td>1.110184</td>\n",
       "      <td>0.500343</td>\n",
       "      <td>3.450215</td>\n",
       "      <td>0.167266</td>\n",
       "      <td>2.006161</td>\n",
       "      <td>0.465405</td>\n",
       "      <td>0.544807</td>\n",
       "      <td>7.506729</td>\n",
       "      <td>8.150308</td>\n",
       "      <td>14.237589</td>\n",
       "      <td>5.195841</td>\n",
       "      <td>686.479875</td>\n",
       "      <td>1559.758728</td>\n",
       "      <td>1936.011647</td>\n",
       "    </tr>\n",
       "    <tr>\n",
       "      <th>min</th>\n",
       "      <td>1.000000</td>\n",
       "      <td>0.000000</td>\n",
       "      <td>1.000000</td>\n",
       "      <td>0.000000</td>\n",
       "      <td>0.000000</td>\n",
       "      <td>0.000000</td>\n",
       "      <td>1.000000</td>\n",
       "      <td>2.424346</td>\n",
       "      <td>3.953480</td>\n",
       "      <td>0.000000</td>\n",
       "      <td>1.500244</td>\n",
       "      <td>2.000000</td>\n",
       "      <td>20.000000</td>\n",
       "      <td>22.000000</td>\n",
       "    </tr>\n",
       "    <tr>\n",
       "      <th>25%</th>\n",
       "      <td>2.000000</td>\n",
       "      <td>0.000000</td>\n",
       "      <td>4.000000</td>\n",
       "      <td>0.000000</td>\n",
       "      <td>1.000000</td>\n",
       "      <td>0.000000</td>\n",
       "      <td>1.000000</td>\n",
       "      <td>13.811885</td>\n",
       "      <td>16.889713</td>\n",
       "      <td>52.000000</td>\n",
       "      <td>9.041650</td>\n",
       "      <td>316.250000</td>\n",
       "      <td>2502.250000</td>\n",
       "      <td>3169.750000</td>\n",
       "    </tr>\n",
       "    <tr>\n",
       "      <th>50%</th>\n",
       "      <td>3.000000</td>\n",
       "      <td>0.500000</td>\n",
       "      <td>7.000000</td>\n",
       "      <td>0.000000</td>\n",
       "      <td>3.000000</td>\n",
       "      <td>1.000000</td>\n",
       "      <td>1.000000</td>\n",
       "      <td>20.465826</td>\n",
       "      <td>24.368225</td>\n",
       "      <td>62.625000</td>\n",
       "      <td>12.125325</td>\n",
       "      <td>717.000000</td>\n",
       "      <td>3664.500000</td>\n",
       "      <td>4548.500000</td>\n",
       "    </tr>\n",
       "    <tr>\n",
       "      <th>75%</th>\n",
       "      <td>3.000000</td>\n",
       "      <td>1.000000</td>\n",
       "      <td>10.000000</td>\n",
       "      <td>0.000000</td>\n",
       "      <td>5.000000</td>\n",
       "      <td>1.000000</td>\n",
       "      <td>2.000000</td>\n",
       "      <td>26.880615</td>\n",
       "      <td>30.445775</td>\n",
       "      <td>72.989575</td>\n",
       "      <td>15.625589</td>\n",
       "      <td>1096.500000</td>\n",
       "      <td>4783.250000</td>\n",
       "      <td>5966.000000</td>\n",
       "    </tr>\n",
       "    <tr>\n",
       "      <th>max</th>\n",
       "      <td>4.000000</td>\n",
       "      <td>1.000000</td>\n",
       "      <td>12.000000</td>\n",
       "      <td>1.000000</td>\n",
       "      <td>6.000000</td>\n",
       "      <td>1.000000</td>\n",
       "      <td>3.000000</td>\n",
       "      <td>35.328347</td>\n",
       "      <td>42.044800</td>\n",
       "      <td>97.250000</td>\n",
       "      <td>34.000021</td>\n",
       "      <td>3410.000000</td>\n",
       "      <td>6946.000000</td>\n",
       "      <td>8714.000000</td>\n",
       "    </tr>\n",
       "  </tbody>\n",
       "</table>\n",
       "</div>"
      ],
      "text/plain": [
       "           season          yr        mnth     holiday     weekday  workingday  \\\n",
       "count  730.000000  730.000000  730.000000  730.000000  730.000000  730.000000   \n",
       "mean     2.498630    0.500000    6.526027    0.028767    2.997260    0.683562   \n",
       "std      1.110184    0.500343    3.450215    0.167266    2.006161    0.465405   \n",
       "min      1.000000    0.000000    1.000000    0.000000    0.000000    0.000000   \n",
       "25%      2.000000    0.000000    4.000000    0.000000    1.000000    0.000000   \n",
       "50%      3.000000    0.500000    7.000000    0.000000    3.000000    1.000000   \n",
       "75%      3.000000    1.000000   10.000000    0.000000    5.000000    1.000000   \n",
       "max      4.000000    1.000000   12.000000    1.000000    6.000000    1.000000   \n",
       "\n",
       "       weathersit        temp       atemp         hum   windspeed  \\\n",
       "count  730.000000  730.000000  730.000000  730.000000  730.000000   \n",
       "mean     1.394521   20.319259   23.726322   62.765175   12.763620   \n",
       "std      0.544807    7.506729    8.150308   14.237589    5.195841   \n",
       "min      1.000000    2.424346    3.953480    0.000000    1.500244   \n",
       "25%      1.000000   13.811885   16.889713   52.000000    9.041650   \n",
       "50%      1.000000   20.465826   24.368225   62.625000   12.125325   \n",
       "75%      2.000000   26.880615   30.445775   72.989575   15.625589   \n",
       "max      3.000000   35.328347   42.044800   97.250000   34.000021   \n",
       "\n",
       "            casual   registered          cnt  \n",
       "count   730.000000   730.000000   730.000000  \n",
       "mean    849.249315  3658.757534  4508.006849  \n",
       "std     686.479875  1559.758728  1936.011647  \n",
       "min       2.000000    20.000000    22.000000  \n",
       "25%     316.250000  2502.250000  3169.750000  \n",
       "50%     717.000000  3664.500000  4548.500000  \n",
       "75%    1096.500000  4783.250000  5966.000000  \n",
       "max    3410.000000  6946.000000  8714.000000  "
      ]
     },
     "execution_count": 310,
     "metadata": {},
     "output_type": "execute_result"
    }
   ],
   "source": [
    "#summary statistics\n",
    "bookings.describe()"
   ]
  },
  {
   "cell_type": "code",
   "execution_count": 311,
   "id": "9036dbaf",
   "metadata": {},
   "outputs": [
    {
     "data": {
      "text/plain": [
       "<AxesSubplot:xlabel='weathersit', ylabel='cnt'>"
      ]
     },
     "execution_count": 311,
     "metadata": {},
     "output_type": "execute_result"
    },
    {
     "data": {
      "image/png": "[encoded data removed]",
      "text/plain": [
       "<Figure size 1440x864 with 7 Axes>"
      ]
     },
     "metadata": {
      "needs_background": "light"
     },
     "output_type": "display_data"
    }
   ],
   "source": [
    "#understanding spread across categorical variables\n",
    "plt.figure(figsize=(20, 12))\n",
    "plt.subplot(3,3,1)\n",
    "sns.boxplot(x = 'season', y = 'cnt', data = bookings)\n",
    "plt.subplot(3,3,2)\n",
    "sns.boxplot(x = 'mnth', y = 'cnt', data = bookings)\n",
    "plt.subplot(3,3,3)\n",
    "sns.boxplot(x = 'yr', y = 'cnt', data = bookings)\n",
    "plt.subplot(3,3,4)\n",
    "sns.boxplot(x = 'holiday', y = 'cnt', data = bookings)\n",
    "plt.subplot(3,3,5)\n",
    "sns.boxplot(x = 'weekday', y = 'cnt', data = bookings)\n",
    "plt.subplot(3,3,6)\n",
    "sns.boxplot(x = 'workingday', y = 'cnt', data = bookings)\n",
    "plt.subplot(3,3,7)\n",
    "sns.boxplot(x = 'weathersit', y = 'cnt', data = bookings)"
   ]
  },
  {
   "cell_type": "code",
   "execution_count": 312,
   "id": "c215086e",
   "metadata": {},
   "outputs": [
    {
     "data": {
      "image/png": "[encoded data removed]",
      "text/plain": [
       "<Figure size 432x288 with 1 Axes>"
      ]
     },
     "metadata": {
      "needs_background": "light"
     },
     "output_type": "display_data"
    }
   ],
   "source": [
    "sns.boxplot(x = 'mnth', y = 'cnt', data = bookings,hue=\"yr\")\n",
    "plt.show()"
   ]
  },
  {
   "cell_type": "markdown",
   "id": "50650aa9",
   "metadata": {},
   "source": [
    "### Observation - We can see that there are not many outliers in the data set\n",
    "- Bookings peak in the order of Seasons 3,2,4,1 (Fall, Summer, Winter and Spring)\n",
    "- Months 6 to 9 (June - Sep) have higher bookings and Jan & Feb have lower bookings\n",
    "- There is not much difference in day wise bookings \n",
    "- Higher bookings in clear weather conditions and drops as weather worsens\n",
    "- Fewer bookings on Holidays compared to non Holidays\n",
    "- 2019 had higher bookings than 2018. showing annual increase in Bike sharing behaviour irrespective of month or season etc"
   ]
  },
  {
   "cell_type": "markdown",
   "id": "a540ec97",
   "metadata": {},
   "source": [
    "### 3 Preparing the data"
   ]
  },
  {
   "cell_type": "code",
   "execution_count": 313,
   "id": "a670f55f",
   "metadata": {},
   "outputs": [],
   "source": [
    "#creating dummy variables for seasons\n",
    "bookings_1 = pd.get_dummies(bookings,columns=['season'],drop_first=True)\n"
   ]
  },
  {
   "cell_type": "code",
   "execution_count": 314,
   "id": "3810ae4a",
   "metadata": {},
   "outputs": [],
   "source": [
    "#creating dummy variables for weather types\n",
    "bookings_1 = pd.get_dummies(bookings_1,columns=['weathersit'],drop_first=True)"
   ]
  },
  {
   "cell_type": "code",
   "execution_count": 315,
   "id": "3de6b64d",
   "metadata": {},
   "outputs": [],
   "source": [
    "# dropping date column\n",
    "bookings_1=bookings_1.drop(\"dteday\",axis=1)"
   ]
  },
  {
   "cell_type": "code",
   "execution_count": 316,
   "id": "2b19dac5",
   "metadata": {},
   "outputs": [],
   "source": [
    "# dropping casual bookings field\n",
    "bookings_1=bookings_1.drop(\"casual\",axis=1)"
   ]
  },
  {
   "cell_type": "code",
   "execution_count": 317,
   "id": "1cda78e6",
   "metadata": {},
   "outputs": [],
   "source": [
    "# dropping registered bookings field\n",
    "bookings_1=bookings_1.drop(\"registered\",axis=1)"
   ]
  },
  {
   "cell_type": "code",
   "execution_count": 318,
   "id": "2cc25ecf",
   "metadata": {},
   "outputs": [
    {
     "data": {
      "image/png": "[encoded data removed]",
      "text/plain": [
       "<Figure size 1080x576 with 2 Axes>"
      ]
     },
     "metadata": {
      "needs_background": "light"
     },
     "output_type": "display_data"
    }
   ],
   "source": [
    "# understanding correlation between varaibles\n",
    "plt.figure(figsize=(15,8))\n",
    "sns.heatmap(bookings.corr(),annot=True)\n",
    "plt.show()"
   ]
  },
  {
   "cell_type": "code",
   "execution_count": 319,
   "id": "9b08e4f3",
   "metadata": {},
   "outputs": [],
   "source": [
    "# dropping atemp field as it has high correlation with temp field\n",
    "bookings_1=bookings_1.drop(\"atemp\",axis=1)"
   ]
  },
  {
   "cell_type": "code",
   "execution_count": 320,
   "id": "e97da9bf",
   "metadata": {},
   "outputs": [
    {
     "data": {
      "image/png": "[encoded data removed]",
      "text/plain": [
       "<Figure size 540x180 with 3 Axes>"
      ]
     },
     "metadata": {
      "needs_background": "light"
     },
     "output_type": "display_data"
    }
   ],
   "source": [
    "# correlation of temperature, humidity and windspeed with bike rental bookings\n",
    "sns.pairplot(data=bookings_1,x_vars=[\"temp\",\"hum\",\"windspeed\"],y_vars=\"cnt\")\n",
    "plt.show()"
   ]
  },
  {
   "cell_type": "code",
   "execution_count": 321,
   "id": "ee22ca67",
   "metadata": {},
   "outputs": [
    {
     "data": {
      "text/html": [
       "<div>\n",
       "<style scoped>\n",
       "    .dataframe tbody tr th:only-of-type {\n",
       "        vertical-align: middle;\n",
       "    }\n",
       "\n",
       "    .dataframe tbody tr th {\n",
       "        vertical-align: top;\n",
       "    }\n",
       "\n",
       "    .dataframe thead th {\n",
       "        text-align: right;\n",
       "    }\n",
       "</style>\n",
       "<table border=\"1\" class=\"dataframe\">\n",
       "  <thead>\n",
       "    <tr style=\"text-align: right;\">\n",
       "      <th></th>\n",
       "      <th>yr</th>\n",
       "      <th>mnth</th>\n",
       "      <th>holiday</th>\n",
       "      <th>weekday</th>\n",
       "      <th>workingday</th>\n",
       "      <th>temp</th>\n",
       "      <th>hum</th>\n",
       "      <th>windspeed</th>\n",
       "      <th>cnt</th>\n",
       "      <th>season_2</th>\n",
       "      <th>season_3</th>\n",
       "      <th>season_4</th>\n",
       "      <th>weathersit_2</th>\n",
       "      <th>weathersit_3</th>\n",
       "    </tr>\n",
       "  </thead>\n",
       "  <tbody>\n",
       "    <tr>\n",
       "      <th>0</th>\n",
       "      <td>0</td>\n",
       "      <td>1</td>\n",
       "      <td>0</td>\n",
       "      <td>6</td>\n",
       "      <td>0</td>\n",
       "      <td>14.110847</td>\n",
       "      <td>80.5833</td>\n",
       "      <td>10.749882</td>\n",
       "      <td>985</td>\n",
       "      <td>0</td>\n",
       "      <td>0</td>\n",
       "      <td>0</td>\n",
       "      <td>1</td>\n",
       "      <td>0</td>\n",
       "    </tr>\n",
       "    <tr>\n",
       "      <th>1</th>\n",
       "      <td>0</td>\n",
       "      <td>1</td>\n",
       "      <td>0</td>\n",
       "      <td>0</td>\n",
       "      <td>0</td>\n",
       "      <td>14.902598</td>\n",
       "      <td>69.6087</td>\n",
       "      <td>16.652113</td>\n",
       "      <td>801</td>\n",
       "      <td>0</td>\n",
       "      <td>0</td>\n",
       "      <td>0</td>\n",
       "      <td>1</td>\n",
       "      <td>0</td>\n",
       "    </tr>\n",
       "    <tr>\n",
       "      <th>2</th>\n",
       "      <td>0</td>\n",
       "      <td>1</td>\n",
       "      <td>0</td>\n",
       "      <td>1</td>\n",
       "      <td>1</td>\n",
       "      <td>8.050924</td>\n",
       "      <td>43.7273</td>\n",
       "      <td>16.636703</td>\n",
       "      <td>1349</td>\n",
       "      <td>0</td>\n",
       "      <td>0</td>\n",
       "      <td>0</td>\n",
       "      <td>0</td>\n",
       "      <td>0</td>\n",
       "    </tr>\n",
       "    <tr>\n",
       "      <th>3</th>\n",
       "      <td>0</td>\n",
       "      <td>1</td>\n",
       "      <td>0</td>\n",
       "      <td>2</td>\n",
       "      <td>1</td>\n",
       "      <td>8.200000</td>\n",
       "      <td>59.0435</td>\n",
       "      <td>10.739832</td>\n",
       "      <td>1562</td>\n",
       "      <td>0</td>\n",
       "      <td>0</td>\n",
       "      <td>0</td>\n",
       "      <td>0</td>\n",
       "      <td>0</td>\n",
       "    </tr>\n",
       "    <tr>\n",
       "      <th>4</th>\n",
       "      <td>0</td>\n",
       "      <td>1</td>\n",
       "      <td>0</td>\n",
       "      <td>3</td>\n",
       "      <td>1</td>\n",
       "      <td>9.305237</td>\n",
       "      <td>43.6957</td>\n",
       "      <td>12.522300</td>\n",
       "      <td>1600</td>\n",
       "      <td>0</td>\n",
       "      <td>0</td>\n",
       "      <td>0</td>\n",
       "      <td>0</td>\n",
       "      <td>0</td>\n",
       "    </tr>\n",
       "  </tbody>\n",
       "</table>\n",
       "</div>"
      ],
      "text/plain": [
       "   yr  mnth  holiday  weekday  workingday       temp      hum  windspeed  \\\n",
       "0   0     1        0        6           0  14.110847  80.5833  10.749882   \n",
       "1   0     1        0        0           0  14.902598  69.6087  16.652113   \n",
       "2   0     1        0        1           1   8.050924  43.7273  16.636703   \n",
       "3   0     1        0        2           1   8.200000  59.0435  10.739832   \n",
       "4   0     1        0        3           1   9.305237  43.6957  12.522300   \n",
       "\n",
       "    cnt  season_2  season_3  season_4  weathersit_2  weathersit_3  \n",
       "0   985         0         0         0             1             0  \n",
       "1   801         0         0         0             1             0  \n",
       "2  1349         0         0         0             0             0  \n",
       "3  1562         0         0         0             0             0  \n",
       "4  1600         0         0         0             0             0  "
      ]
     },
     "execution_count": 321,
     "metadata": {},
     "output_type": "execute_result"
    }
   ],
   "source": [
    "bookings_1.head()"
   ]
  },
  {
   "cell_type": "markdown",
   "id": "7b474747",
   "metadata": {},
   "source": [
    "### 4 Building the model"
   ]
  },
  {
   "cell_type": "code",
   "execution_count": 322,
   "id": "e0cf2d13",
   "metadata": {},
   "outputs": [],
   "source": [
    "#importing stats libraries and methods for training & testing\n",
    "import statsmodels\n",
    "import statsmodels.api as sm\n",
    "import sklearn\n",
    "from sklearn.model_selection import train_test_split"
   ]
  },
  {
   "cell_type": "code",
   "execution_count": 323,
   "id": "4bfa6642",
   "metadata": {},
   "outputs": [],
   "source": [
    "# splitting the data into train & test set\n",
    "\n",
    "bookings_1_train,bookings_1_test=train_test_split(bookings_1,train_size=0.7,random_state=100)"
   ]
  },
  {
   "cell_type": "code",
   "execution_count": 324,
   "id": "a6d98d25",
   "metadata": {},
   "outputs": [
    {
     "name": "stdout",
     "output_type": "stream",
     "text": [
      "(510, 14)\n"
     ]
    }
   ],
   "source": [
    "#4 Scaling the data using Normalization\n",
    "print(bookings_1_train.shape)"
   ]
  },
  {
   "cell_type": "code",
   "execution_count": 325,
   "id": "d6a4a5d0",
   "metadata": {},
   "outputs": [],
   "source": [
    "from sklearn.preprocessing import MinMaxScaler"
   ]
  },
  {
   "cell_type": "code",
   "execution_count": 326,
   "id": "023719ff",
   "metadata": {},
   "outputs": [],
   "source": [
    "#4.1 instantiate a scaler object\n",
    "scaler=MinMaxScaler()"
   ]
  },
  {
   "cell_type": "code",
   "execution_count": 327,
   "id": "b855a74b",
   "metadata": {},
   "outputs": [],
   "source": [
    "#create a numerical variable list\n",
    "num_vars=[\"temp\",\"hum\",\"windspeed\",\"cnt\",\"mnth\",\"weekday\"]"
   ]
  },
  {
   "cell_type": "code",
   "execution_count": 328,
   "id": "78530ca4",
   "metadata": {},
   "outputs": [],
   "source": [
    "#4.2 fit the scaler\n",
    "bookings_1_train[num_vars]=scaler.fit_transform(bookings_1_train[num_vars])"
   ]
  },
  {
   "cell_type": "code",
   "execution_count": 329,
   "id": "6e3d85d3",
   "metadata": {},
   "outputs": [
    {
     "data": {
      "text/html": [
       "<div>\n",
       "<style scoped>\n",
       "    .dataframe tbody tr th:only-of-type {\n",
       "        vertical-align: middle;\n",
       "    }\n",
       "\n",
       "    .dataframe tbody tr th {\n",
       "        vertical-align: top;\n",
       "    }\n",
       "\n",
       "    .dataframe thead th {\n",
       "        text-align: right;\n",
       "    }\n",
       "</style>\n",
       "<table border=\"1\" class=\"dataframe\">\n",
       "  <thead>\n",
       "    <tr style=\"text-align: right;\">\n",
       "      <th></th>\n",
       "      <th>yr</th>\n",
       "      <th>mnth</th>\n",
       "      <th>holiday</th>\n",
       "      <th>weekday</th>\n",
       "      <th>workingday</th>\n",
       "      <th>temp</th>\n",
       "      <th>hum</th>\n",
       "      <th>windspeed</th>\n",
       "      <th>cnt</th>\n",
       "      <th>season_2</th>\n",
       "      <th>season_3</th>\n",
       "      <th>season_4</th>\n",
       "      <th>weathersit_2</th>\n",
       "      <th>weathersit_3</th>\n",
       "    </tr>\n",
       "  </thead>\n",
       "  <tbody>\n",
       "    <tr>\n",
       "      <th>576</th>\n",
       "      <td>1</td>\n",
       "      <td>0.545455</td>\n",
       "      <td>0</td>\n",
       "      <td>0.333333</td>\n",
       "      <td>1</td>\n",
       "      <td>0.815169</td>\n",
       "      <td>0.725633</td>\n",
       "      <td>0.264686</td>\n",
       "      <td>0.827658</td>\n",
       "      <td>0</td>\n",
       "      <td>1</td>\n",
       "      <td>0</td>\n",
       "      <td>0</td>\n",
       "      <td>0</td>\n",
       "    </tr>\n",
       "    <tr>\n",
       "      <th>426</th>\n",
       "      <td>1</td>\n",
       "      <td>0.181818</td>\n",
       "      <td>0</td>\n",
       "      <td>1.000000</td>\n",
       "      <td>0</td>\n",
       "      <td>0.442393</td>\n",
       "      <td>0.640189</td>\n",
       "      <td>0.255342</td>\n",
       "      <td>0.465255</td>\n",
       "      <td>0</td>\n",
       "      <td>0</td>\n",
       "      <td>0</td>\n",
       "      <td>1</td>\n",
       "      <td>0</td>\n",
       "    </tr>\n",
       "    <tr>\n",
       "      <th>728</th>\n",
       "      <td>1</td>\n",
       "      <td>1.000000</td>\n",
       "      <td>0</td>\n",
       "      <td>0.000000</td>\n",
       "      <td>0</td>\n",
       "      <td>0.245101</td>\n",
       "      <td>0.498067</td>\n",
       "      <td>0.663106</td>\n",
       "      <td>0.204096</td>\n",
       "      <td>0</td>\n",
       "      <td>0</td>\n",
       "      <td>0</td>\n",
       "      <td>0</td>\n",
       "      <td>0</td>\n",
       "    </tr>\n",
       "    <tr>\n",
       "      <th>482</th>\n",
       "      <td>1</td>\n",
       "      <td>0.272727</td>\n",
       "      <td>0</td>\n",
       "      <td>1.000000</td>\n",
       "      <td>0</td>\n",
       "      <td>0.395666</td>\n",
       "      <td>0.504508</td>\n",
       "      <td>0.188475</td>\n",
       "      <td>0.482973</td>\n",
       "      <td>1</td>\n",
       "      <td>0</td>\n",
       "      <td>0</td>\n",
       "      <td>1</td>\n",
       "      <td>0</td>\n",
       "    </tr>\n",
       "    <tr>\n",
       "      <th>111</th>\n",
       "      <td>0</td>\n",
       "      <td>0.272727</td>\n",
       "      <td>0</td>\n",
       "      <td>0.833333</td>\n",
       "      <td>1</td>\n",
       "      <td>0.345824</td>\n",
       "      <td>0.751824</td>\n",
       "      <td>0.380981</td>\n",
       "      <td>0.191095</td>\n",
       "      <td>1</td>\n",
       "      <td>0</td>\n",
       "      <td>0</td>\n",
       "      <td>1</td>\n",
       "      <td>0</td>\n",
       "    </tr>\n",
       "  </tbody>\n",
       "</table>\n",
       "</div>"
      ],
      "text/plain": [
       "     yr      mnth  holiday   weekday  workingday      temp       hum  \\\n",
       "576   1  0.545455        0  0.333333           1  0.815169  0.725633   \n",
       "426   1  0.181818        0  1.000000           0  0.442393  0.640189   \n",
       "728   1  1.000000        0  0.000000           0  0.245101  0.498067   \n",
       "482   1  0.272727        0  1.000000           0  0.395666  0.504508   \n",
       "111   0  0.272727        0  0.833333           1  0.345824  0.751824   \n",
       "\n",
       "     windspeed       cnt  season_2  season_3  season_4  weathersit_2  \\\n",
       "576   0.264686  0.827658         0         1         0             0   \n",
       "426   0.255342  0.465255         0         0         0             1   \n",
       "728   0.663106  0.204096         0         0         0             0   \n",
       "482   0.188475  0.482973         1         0         0             1   \n",
       "111   0.380981  0.191095         1         0         0             1   \n",
       "\n",
       "     weathersit_3  \n",
       "576             0  \n",
       "426             0  \n",
       "728             0  \n",
       "482             0  \n",
       "111             0  "
      ]
     },
     "execution_count": 329,
     "metadata": {},
     "output_type": "execute_result"
    }
   ],
   "source": [
    "bookings_1_train.head()"
   ]
  },
  {
   "cell_type": "code",
   "execution_count": 330,
   "id": "9ca3180d",
   "metadata": {},
   "outputs": [],
   "source": [
    "#correlation with cnt tells us temp variable has maximum correlation\n",
    "#this can be used if we build a model with variables one by one\n",
    "#However, since we have too many variables, \n",
    "#we will use RFE to start with optimum no. of variables\n"
   ]
  },
  {
   "cell_type": "code",
   "execution_count": 331,
   "id": "3da3f4ba",
   "metadata": {},
   "outputs": [],
   "source": [
    "# creating the training set\n",
    "y_train=bookings_1_train.pop(\"cnt\")\n",
    "X_train=bookings_1_train"
   ]
  },
  {
   "cell_type": "code",
   "execution_count": 332,
   "id": "ecf3917c",
   "metadata": {},
   "outputs": [],
   "source": [
    "# Linear Regression using scikit learn package\n",
    "from sklearn.linear_model import LinearRegression \n",
    "from sklearn.feature_selection import RFE"
   ]
  },
  {
   "cell_type": "code",
   "execution_count": 333,
   "id": "4c35da92",
   "metadata": {},
   "outputs": [],
   "source": [
    "#create an object of LR\n",
    "lm=LinearRegression()"
   ]
  },
  {
   "cell_type": "code",
   "execution_count": 334,
   "id": "1290f24e",
   "metadata": {},
   "outputs": [],
   "source": [
    "#fit the model \n",
    "lm.fit(X_train,y_train)\n",
    "# use 10 as the initial no. of key features for model\n",
    "rfe=RFE(lm,10)\n",
    "rfe=rfe.fit(X_train,y_train)"
   ]
  },
  {
   "cell_type": "code",
   "execution_count": 335,
   "id": "55949c2d",
   "metadata": {},
   "outputs": [
    {
     "data": {
      "text/plain": [
       "[('yr', True, 1),\n",
       " ('mnth', False, 4),\n",
       " ('holiday', True, 1),\n",
       " ('weekday', False, 2),\n",
       " ('workingday', False, 3),\n",
       " ('temp', True, 1),\n",
       " ('hum', True, 1),\n",
       " ('windspeed', True, 1),\n",
       " ('season_2', True, 1),\n",
       " ('season_3', True, 1),\n",
       " ('season_4', True, 1),\n",
       " ('weathersit_2', True, 1),\n",
       " ('weathersit_3', True, 1)]"
      ]
     },
     "execution_count": 335,
     "metadata": {},
     "output_type": "execute_result"
    }
   ],
   "source": [
    "list(zip(X_train.columns,rfe.support_,rfe.ranking_))"
   ]
  },
  {
   "cell_type": "code",
   "execution_count": 336,
   "id": "e59c693c",
   "metadata": {},
   "outputs": [
    {
     "data": {
      "text/plain": [
       "Index(['yr', 'holiday', 'temp', 'hum', 'windspeed', 'season_2', 'season_3',\n",
       "       'season_4', 'weathersit_2', 'weathersit_3'],\n",
       "      dtype='object')"
      ]
     },
     "execution_count": 336,
     "metadata": {},
     "output_type": "execute_result"
    }
   ],
   "source": [
    "col=X_train.columns[rfe.support_]\n",
    "col"
   ]
  },
  {
   "cell_type": "code",
   "execution_count": 337,
   "id": "9f524b27",
   "metadata": {},
   "outputs": [],
   "source": [
    "#building training set with only the RFE suggested columns\n",
    "X_train_rfe=X_train[col]"
   ]
  },
  {
   "cell_type": "code",
   "execution_count": 338,
   "id": "485ddebe",
   "metadata": {},
   "outputs": [],
   "source": [
    "import statsmodels.api as sm\n",
    "X_train_rfe=sm.add_constant(X_train_rfe)"
   ]
  },
  {
   "cell_type": "code",
   "execution_count": 339,
   "id": "55ad382e",
   "metadata": {},
   "outputs": [],
   "source": [
    "lm=sm.OLS(y_train,X_train_rfe).fit()"
   ]
  },
  {
   "cell_type": "code",
   "execution_count": 340,
   "id": "27cbb8e0",
   "metadata": {},
   "outputs": [
    {
     "name": "stdout",
     "output_type": "stream",
     "text": [
      "                            OLS Regression Results                            \n",
      "==============================================================================\n",
      "Dep. Variable:                    cnt   R-squared:                       0.827\n",
      "Model:                            OLS   Adj. R-squared:                  0.823\n",
      "Method:                 Least Squares   F-statistic:                     238.2\n",
      "Date:                Wed, 20 Apr 2022   Prob (F-statistic):          8.27e-183\n",
      "Time:                        23:11:38   Log-Likelihood:                 485.99\n",
      "No. Observations:                 510   AIC:                            -950.0\n",
      "Df Residuals:                     499   BIC:                            -903.4\n",
      "Df Model:                          10                                         \n",
      "Covariance Type:            nonrobust                                         \n",
      "================================================================================\n",
      "                   coef    std err          t      P>|t|      [0.025      0.975]\n",
      "--------------------------------------------------------------------------------\n",
      "const            0.2183      0.028      7.804      0.000       0.163       0.273\n",
      "yr               0.2307      0.008     27.176      0.000       0.214       0.247\n",
      "holiday         -0.0860      0.027     -3.224      0.001      -0.138      -0.034\n",
      "temp             0.4960      0.035     14.316      0.000       0.428       0.564\n",
      "hum             -0.1406      0.039     -3.590      0.000      -0.218      -0.064\n",
      "windspeed       -0.1830      0.027     -6.802      0.000      -0.236      -0.130\n",
      "season_2         0.1180      0.015      7.638      0.000       0.088       0.148\n",
      "season_3         0.0749      0.021      3.606      0.000       0.034       0.116\n",
      "season_4         0.1620      0.013     12.251      0.000       0.136       0.188\n",
      "weathersit_2    -0.0522      0.011     -4.761      0.000      -0.074      -0.031\n",
      "weathersit_3    -0.2396      0.028     -8.701      0.000      -0.294      -0.185\n",
      "==============================================================================\n",
      "Omnibus:                       63.872   Durbin-Watson:                   2.026\n",
      "Prob(Omnibus):                  0.000   Jarque-Bera (JB):              159.401\n",
      "Skew:                          -0.644   Prob(JB):                     2.43e-35\n",
      "Kurtosis:                       5.417   Cond. No.                         18.8\n",
      "==============================================================================\n",
      "\n",
      "Notes:\n",
      "[1] Standard Errors assume that the covariance matrix of the errors is correctly specified.\n"
     ]
    }
   ],
   "source": [
    "print(lm.summary())"
   ]
  },
  {
   "cell_type": "markdown",
   "id": "c5dff365",
   "metadata": {},
   "source": [
    "#### Interpreting the model summary\n",
    "-R2 of 0.827 implies the model is a good fit with all the variables considered explain 82% of changes in target variable\n",
    "<br>-Low P(F statistic) signifies that all the features involved are statistically significant\n",
    "<br>-Durbin Watson value of ~ 2 indicates no auto correlation between the variables."
   ]
  },
  {
   "cell_type": "code",
   "execution_count": 341,
   "id": "cdc63432",
   "metadata": {},
   "outputs": [
    {
     "data": {
      "text/html": [
       "<div>\n",
       "<style scoped>\n",
       "    .dataframe tbody tr th:only-of-type {\n",
       "        vertical-align: middle;\n",
       "    }\n",
       "\n",
       "    .dataframe tbody tr th {\n",
       "        vertical-align: top;\n",
       "    }\n",
       "\n",
       "    .dataframe thead th {\n",
       "        text-align: right;\n",
       "    }\n",
       "</style>\n",
       "<table border=\"1\" class=\"dataframe\">\n",
       "  <thead>\n",
       "    <tr style=\"text-align: right;\">\n",
       "      <th></th>\n",
       "      <th>Features</th>\n",
       "      <th>VIF</th>\n",
       "    </tr>\n",
       "  </thead>\n",
       "  <tbody>\n",
       "    <tr>\n",
       "      <th>0</th>\n",
       "      <td>const</td>\n",
       "      <td>44.86</td>\n",
       "    </tr>\n",
       "    <tr>\n",
       "      <th>7</th>\n",
       "      <td>season_3</td>\n",
       "      <td>4.78</td>\n",
       "    </tr>\n",
       "    <tr>\n",
       "      <th>3</th>\n",
       "      <td>temp</td>\n",
       "      <td>3.50</td>\n",
       "    </tr>\n",
       "    <tr>\n",
       "      <th>6</th>\n",
       "      <td>season_2</td>\n",
       "      <td>2.55</td>\n",
       "    </tr>\n",
       "    <tr>\n",
       "      <th>4</th>\n",
       "      <td>hum</td>\n",
       "      <td>1.87</td>\n",
       "    </tr>\n",
       "    <tr>\n",
       "      <th>8</th>\n",
       "      <td>season_4</td>\n",
       "      <td>1.86</td>\n",
       "    </tr>\n",
       "    <tr>\n",
       "      <th>9</th>\n",
       "      <td>weathersit_2</td>\n",
       "      <td>1.56</td>\n",
       "    </tr>\n",
       "    <tr>\n",
       "      <th>10</th>\n",
       "      <td>weathersit_3</td>\n",
       "      <td>1.24</td>\n",
       "    </tr>\n",
       "    <tr>\n",
       "      <th>5</th>\n",
       "      <td>windspeed</td>\n",
       "      <td>1.19</td>\n",
       "    </tr>\n",
       "    <tr>\n",
       "      <th>1</th>\n",
       "      <td>yr</td>\n",
       "      <td>1.03</td>\n",
       "    </tr>\n",
       "    <tr>\n",
       "      <th>2</th>\n",
       "      <td>holiday</td>\n",
       "      <td>1.01</td>\n",
       "    </tr>\n",
       "  </tbody>\n",
       "</table>\n",
       "</div>"
      ],
      "text/plain": [
       "        Features    VIF\n",
       "0          const  44.86\n",
       "7       season_3   4.78\n",
       "3           temp   3.50\n",
       "6       season_2   2.55\n",
       "4            hum   1.87\n",
       "8       season_4   1.86\n",
       "9   weathersit_2   1.56\n",
       "10  weathersit_3   1.24\n",
       "5      windspeed   1.19\n",
       "1             yr   1.03\n",
       "2        holiday   1.01"
      ]
     },
     "execution_count": 341,
     "metadata": {},
     "output_type": "execute_result"
    }
   ],
   "source": [
    "# understanding multi collienarity\n",
    "from statsmodels.stats.outliers_influence import variance_inflation_factor\n",
    "vif=pd.DataFrame()\n",
    "vif[\"Features\"]=X_train_rfe.columns\n",
    "vif[\"VIF\"]=[variance_inflation_factor(X_train_rfe.values,i) for i in range(X_train_rfe.shape[1])]\n",
    "vif[\"VIF\"]=round(vif[\"VIF\"],2)\n",
    "vif=vif.sort_values(by=\"VIF\",ascending=False)\n",
    "vif"
   ]
  },
  {
   "cell_type": "markdown",
   "id": "2fd06f95",
   "metadata": {},
   "source": [
    "#### Ignore the high VIF for the constant as it is not a predictor"
   ]
  },
  {
   "cell_type": "markdown",
   "id": "f34dd06d",
   "metadata": {},
   "source": [
    "### 5 Residual analysis on training set\n"
   ]
  },
  {
   "cell_type": "code",
   "execution_count": 342,
   "id": "0f2d974d",
   "metadata": {},
   "outputs": [],
   "source": [
    "#residual analysis on training set\n",
    "#error = f(y_train,y_train_pred)\n",
    "\n",
    "#create predicted values on y_train\n",
    "y_train_pred=lm.predict(X_train_rfe)\n",
    "#create a variable for residuals\n",
    "residuals=y_train-y_train_pred"
   ]
  },
  {
   "cell_type": "code",
   "execution_count": 343,
   "id": "c480235f",
   "metadata": {},
   "outputs": [
    {
     "data": {
      "text/plain": [
       "576    0.049871\n",
       "426   -0.014303\n",
       "728   -0.175163\n",
       "482   -0.122739\n",
       "111   -0.089196\n",
       "         ...   \n",
       "578    0.010193\n",
       "53    -0.019151\n",
       "350    0.021630\n",
       "79    -0.073442\n",
       "520    0.144989\n",
       "Length: 510, dtype: float64"
      ]
     },
     "execution_count": 343,
     "metadata": {},
     "output_type": "execute_result"
    }
   ],
   "source": [
    "residuals"
   ]
  },
  {
   "cell_type": "code",
   "execution_count": 344,
   "id": "f24a41bc",
   "metadata": {},
   "outputs": [
    {
     "data": {
      "text/plain": [
       "<AxesSubplot:ylabel='Density'>"
      ]
     },
     "execution_count": 344,
     "metadata": {},
     "output_type": "execute_result"
    },
    {
     "data": {
      "image/png": "[encoded data removed]",
      "text/plain": [
       "<Figure size 432x288 with 1 Axes>"
      ]
     },
     "metadata": {
      "needs_background": "light"
     },
     "output_type": "display_data"
    }
   ],
   "source": [
    "#plot the residuals\n",
    "\n",
    "sns.distplot(residuals)"
   ]
  },
  {
   "cell_type": "code",
   "execution_count": 345,
   "id": "668a8dd6",
   "metadata": {},
   "outputs": [
    {
     "data": {
      "text/plain": [
       "(510,)"
      ]
     },
     "execution_count": 345,
     "metadata": {},
     "output_type": "execute_result"
    }
   ],
   "source": [
    "residuals.shape"
   ]
  },
  {
   "cell_type": "code",
   "execution_count": 346,
   "id": "0c49c6fa",
   "metadata": {},
   "outputs": [
    {
     "data": {
      "image/png": "[encoded data removed]",
      "text/plain": [
       "<Figure size 432x288 with 1 Axes>"
      ]
     },
     "metadata": {
      "needs_background": "light"
     },
     "output_type": "display_data"
    }
   ],
   "source": [
    "#check if residuals are independent - no pattern\n",
    "plt.scatter(y_train,residuals)\n",
    "plt.show()"
   ]
  },
  {
   "cell_type": "markdown",
   "id": "a33563e0",
   "metadata": {},
   "source": [
    "### 6 Prediction and evaluation of the test set (y_test_predict)\n",
    "\n",
    "\n",
    "\n"
   ]
  },
  {
   "cell_type": "code",
   "execution_count": 347,
   "id": "50ce1249",
   "metadata": {},
   "outputs": [
    {
     "data": {
      "text/html": [
       "<div>\n",
       "<style scoped>\n",
       "    .dataframe tbody tr th:only-of-type {\n",
       "        vertical-align: middle;\n",
       "    }\n",
       "\n",
       "    .dataframe tbody tr th {\n",
       "        vertical-align: top;\n",
       "    }\n",
       "\n",
       "    .dataframe thead th {\n",
       "        text-align: right;\n",
       "    }\n",
       "</style>\n",
       "<table border=\"1\" class=\"dataframe\">\n",
       "  <thead>\n",
       "    <tr style=\"text-align: right;\">\n",
       "      <th></th>\n",
       "      <th>yr</th>\n",
       "      <th>mnth</th>\n",
       "      <th>holiday</th>\n",
       "      <th>weekday</th>\n",
       "      <th>workingday</th>\n",
       "      <th>temp</th>\n",
       "      <th>hum</th>\n",
       "      <th>windspeed</th>\n",
       "      <th>cnt</th>\n",
       "      <th>season_2</th>\n",
       "      <th>season_3</th>\n",
       "      <th>season_4</th>\n",
       "      <th>weathersit_2</th>\n",
       "      <th>weathersit_3</th>\n",
       "    </tr>\n",
       "  </thead>\n",
       "  <tbody>\n",
       "    <tr>\n",
       "      <th>184</th>\n",
       "      <td>0</td>\n",
       "      <td>0.545455</td>\n",
       "      <td>1</td>\n",
       "      <td>0.166667</td>\n",
       "      <td>0</td>\n",
       "      <td>0.837241</td>\n",
       "      <td>0.534223</td>\n",
       "      <td>0.149393</td>\n",
       "      <td>0.704300</td>\n",
       "      <td>0</td>\n",
       "      <td>1</td>\n",
       "      <td>0</td>\n",
       "      <td>1</td>\n",
       "      <td>0</td>\n",
       "    </tr>\n",
       "    <tr>\n",
       "      <th>535</th>\n",
       "      <td>1</td>\n",
       "      <td>0.454545</td>\n",
       "      <td>0</td>\n",
       "      <td>0.500000</td>\n",
       "      <td>1</td>\n",
       "      <td>0.911423</td>\n",
       "      <td>0.470417</td>\n",
       "      <td>0.231142</td>\n",
       "      <td>0.725421</td>\n",
       "      <td>1</td>\n",
       "      <td>0</td>\n",
       "      <td>0</td>\n",
       "      <td>0</td>\n",
       "      <td>0</td>\n",
       "    </tr>\n",
       "    <tr>\n",
       "      <th>299</th>\n",
       "      <td>0</td>\n",
       "      <td>0.818182</td>\n",
       "      <td>0</td>\n",
       "      <td>0.666667</td>\n",
       "      <td>1</td>\n",
       "      <td>0.496221</td>\n",
       "      <td>0.777843</td>\n",
       "      <td>0.443398</td>\n",
       "      <td>0.278853</td>\n",
       "      <td>0</td>\n",
       "      <td>0</td>\n",
       "      <td>1</td>\n",
       "      <td>1</td>\n",
       "      <td>0</td>\n",
       "    </tr>\n",
       "    <tr>\n",
       "      <th>221</th>\n",
       "      <td>0</td>\n",
       "      <td>0.636364</td>\n",
       "      <td>0</td>\n",
       "      <td>0.500000</td>\n",
       "      <td>1</td>\n",
       "      <td>0.890387</td>\n",
       "      <td>0.236659</td>\n",
       "      <td>0.449707</td>\n",
       "      <td>0.545512</td>\n",
       "      <td>0</td>\n",
       "      <td>1</td>\n",
       "      <td>0</td>\n",
       "      <td>0</td>\n",
       "      <td>0</td>\n",
       "    </tr>\n",
       "    <tr>\n",
       "      <th>152</th>\n",
       "      <td>0</td>\n",
       "      <td>0.454545</td>\n",
       "      <td>0</td>\n",
       "      <td>0.666667</td>\n",
       "      <td>1</td>\n",
       "      <td>0.821739</td>\n",
       "      <td>0.070765</td>\n",
       "      <td>0.682387</td>\n",
       "      <td>0.569148</td>\n",
       "      <td>1</td>\n",
       "      <td>0</td>\n",
       "      <td>0</td>\n",
       "      <td>0</td>\n",
       "      <td>0</td>\n",
       "    </tr>\n",
       "  </tbody>\n",
       "</table>\n",
       "</div>"
      ],
      "text/plain": [
       "     yr      mnth  holiday   weekday  workingday      temp       hum  \\\n",
       "184   0  0.545455        1  0.166667           0  0.837241  0.534223   \n",
       "535   1  0.454545        0  0.500000           1  0.911423  0.470417   \n",
       "299   0  0.818182        0  0.666667           1  0.496221  0.777843   \n",
       "221   0  0.636364        0  0.500000           1  0.890387  0.236659   \n",
       "152   0  0.454545        0  0.666667           1  0.821739  0.070765   \n",
       "\n",
       "     windspeed       cnt  season_2  season_3  season_4  weathersit_2  \\\n",
       "184   0.149393  0.704300         0         1         0             1   \n",
       "535   0.231142  0.725421         1         0         0             0   \n",
       "299   0.443398  0.278853         0         0         1             1   \n",
       "221   0.449707  0.545512         0         1         0             0   \n",
       "152   0.682387  0.569148         1         0         0             0   \n",
       "\n",
       "     weathersit_3  \n",
       "184             0  \n",
       "535             0  \n",
       "299             0  \n",
       "221             0  \n",
       "152             0  "
      ]
     },
     "execution_count": 347,
     "metadata": {},
     "output_type": "execute_result"
    }
   ],
   "source": [
    "#transform the test set\n",
    "num_vars=[\"temp\",\"hum\",\"windspeed\",\"cnt\",\"mnth\",\"weekday\"]\n",
    "bookings_1_test[num_vars]=scaler.fit_transform(bookings_1_test[num_vars])\n",
    "bookings_1_test.head()"
   ]
  },
  {
   "cell_type": "code",
   "execution_count": 348,
   "id": "09c40bed",
   "metadata": {},
   "outputs": [],
   "source": [
    "y_test=bookings_1_test.pop(\"cnt\")\n",
    "X_test=bookings_1_test"
   ]
  },
  {
   "cell_type": "code",
   "execution_count": 349,
   "id": "0373e106",
   "metadata": {},
   "outputs": [],
   "source": [
    "X_train_rfe=X_train_rfe.drop(\"const\",axis=1)"
   ]
  },
  {
   "cell_type": "markdown",
   "id": "610d10a9",
   "metadata": {},
   "source": [
    "#### 6.1 Prediction"
   ]
  },
  {
   "cell_type": "code",
   "execution_count": 350,
   "id": "b8802f05",
   "metadata": {},
   "outputs": [],
   "source": [
    "# Using the model to make predictions\n",
    "\n",
    "# Creating X_test_new dataframe by dropping variables from X_test\n",
    "X_test_new = X_test[X_train_rfe.columns]\n",
    "\n",
    "# Adding a constant variable \n",
    "X_test_new = sm.add_constant(X_test_new)"
   ]
  },
  {
   "cell_type": "code",
   "execution_count": 351,
   "id": "a7c05f8a",
   "metadata": {},
   "outputs": [],
   "source": [
    "# Making predictions\n",
    "y_pred = lm.predict(X_test_new)"
   ]
  },
  {
   "cell_type": "markdown",
   "id": "8240a733",
   "metadata": {},
   "source": [
    "#### 6.2 Evaluation"
   ]
  },
  {
   "cell_type": "code",
   "execution_count": 352,
   "id": "ce60cdc4",
   "metadata": {},
   "outputs": [
    {
     "data": {
      "image/png": "[encoded data removed]",
      "text/plain": [
       "<Figure size 432x288 with 1 Axes>"
      ]
     },
     "metadata": {
      "needs_background": "light"
     },
     "output_type": "display_data"
    }
   ],
   "source": [
    "# Plotting y_test and y_pred to understand the spread.\n",
    "fig = plt.figure()\n",
    "plt.scatter(y_test,y_pred)\n",
    "fig.suptitle('y_test vs y_pred', fontsize=20)              # Plot heading \n",
    "plt.xlabel('y_test', fontsize=18)                          # X-label\n",
    "plt.ylabel('y_pred', fontsize=16)  \n",
    "plt.show()"
   ]
  },
  {
   "cell_type": "code",
   "execution_count": 353,
   "id": "56483d08",
   "metadata": {},
   "outputs": [
    {
     "data": {
      "text/plain": [
       "0.8022038553700823"
      ]
     },
     "execution_count": 353,
     "metadata": {},
     "output_type": "execute_result"
    }
   ],
   "source": [
    "#R- squared score of test set\n",
    "from sklearn.metrics import r2_score\n",
    "r2_score(y_test, y_pred)"
   ]
  },
  {
   "cell_type": "markdown",
   "id": "19f04dc8",
   "metadata": {},
   "source": [
    "## Final equation of the best fit line\n",
    "\n",
    "_cnt = 0.2183+0.2307(yr)+0.4960(temp)-0.0860(holiday)-0.1406(hum)-0.1830(windspeed)<br>+0.1180(season_2)+0.0749(season_3)+0.1620(season_4)-0.0522(weathersit_2)-0.2396(weathersit_3)_\n",
    "\n",
    "**total_bookings = 0.2183+0.2307(year)+0.4960(temperature)-0.0860(holiday)-0.1406(humidity)-0.1830(windspeed)<br>+0.1180(summer_flag)+0.0749(fall_flag)+0.1620(winter_flag)-0.0522(mist_flag)-0.2396(light snow or light_rain)**\n",
    "\n",
    "The top 3 variables that impact bike rental bookings are \n",
    "1. Temperature (change of 1 unit increases bookings by 0.4960 units)\n",
    "2. Light Snow or Light Rain (Weathersit=3) (if there is light snow the bookings drop by 0.2396 units)\n",
    "3. Year (increase in bookings by 0.2307 units in 2019 vs 2018)"
   ]
  },
  {
   "cell_type": "code",
   "execution_count": 354,
   "id": "b25536cd",
   "metadata": {},
   "outputs": [],
   "source": [
    "############################################"
   ]
  },
  {
   "cell_type": "markdown",
   "id": "76def5e3",
   "metadata": {},
   "source": [
    "#### (additional exercise) Equation of the best fit line through standardized scaling\n",
    "\n",
    "\n",
    "total_bookings = -0.7973+1.0290(year)+0.4992(temperature)-0.3835(holiday)-0.0914(humidity)-0.1384(windspeed)<br>+0.5264(summer_flag)+0.3339(fall_flag)+0.7224(winter_flag)-0.2328(mist_flag)-1.0687(light snow or light_rain)"
   ]
  }
 ],
 "metadata": {
  "kernelspec": {
   "display_name": "Python 3 (ipykernel)",
   "language": "python",
   "name": "python3"
  },
  "language_info": {
   "codemirror_mode": {
    "name": "ipython",
    "version": 3
   },
   "file_extension": ".py",
   "mimetype": "text/x-python",
   "name": "python",
   "nbconvert_exporter": "python",
   "pygments_lexer": "ipython3",
   "version": "3.9.7"
  }
 },
 "nbformat": 4,
 "nbformat_minor": 5
}
